{
 "cells": [
  {
   "cell_type": "markdown",
   "id": "eebef251-ac2f-4e98-9344-c09cf8468001",
   "metadata": {},
   "source": [
    "## Noor Alawlaqi - S21107270"
   ]
  },
  {
   "cell_type": "markdown",
   "id": "582fd51e",
   "metadata": {},
   "source": [
    "# Lab 2: numpy\n",
    "\n",
    "#### Practice Exercise 1\n",
    "\n",
    "Create the following NumPy arrays: \n",
    "1. A 1-D array called zeros having 10 elements and all the elements are set to zero. \n",
    "2. A 1-D array called vowels having the elements ‘a’, ‘e’, ‘i’, ‘o’ and ‘u’. \n",
    "3. A 2-D array called ones having 2 rows and 5 columns and all the elements are set to 1 and dtype as int. \n",
    "4. Use nested Python lists to create a 2-D array called myarray1 having 3 rows and 3 columns and store the following data: 2.7,  0,  -2,  3.4,  10.6,  0,  -19 99.9 13 \n",
    "5. A 2-D array called myarray2 using arange() having 3 rows and 5 columns with start value = 4, step size 4 and dtype as float\n"
   ]
  },
  {
   "cell_type": "code",
   "execution_count": 46,
   "id": "9195d139",
   "metadata": {},
   "outputs": [
    {
     "name": "stdout",
     "output_type": "stream",
     "text": [
      "[0. 0. 0. 0. 0. 0. 0. 0. 0. 0.]\n",
      "['a' 'e' 'i' 'o' 'u']\n",
      "[[1 1 1 1 1]\n",
      " [1 1 1 1 1]]\n",
      "[[2.7, 0, -2], [3.4, 10.6, 0], [-19, 99.9, 13]]\n",
      "[[ 4.  8. 12. 16. 20.]\n",
      " [24. 28. 32. 36. 40.]\n",
      " [44. 48. 52. 56. 60.]]\n"
     ]
    }
   ],
   "source": [
    "# Write your answer here\n",
    "import numpy as np\n",
    "#Q1 answer:\n",
    "\n",
    "zeros = np.zeros(10)\n",
    "print(zeros)\n",
    "\n",
    "#Q2 answer:\n",
    "vowels = np.array(['a', 'e', 'i', 'o' , 'u'])\n",
    "print(vowels)\n",
    "\n",
    "#Q3 answer:\n",
    "ones = np.ones((2,5), dtype=np.int64)\n",
    "print(ones)\n",
    "\n",
    "#Q4 answer:\n",
    "myarray1 = [\n",
    "    [2.7, 0, -2], \n",
    "    [3.4, 10.6, 0], \n",
    "    [-19, 99.9, 13]\n",
    "]\n",
    "print(myarray1)\n",
    "\n",
    "#Q5 answer:\n",
    "myarray2 = np.arange(4,15*4+4,4, dtype=np.float64).reshape(3,5)\n",
    "print(myarray2)"
   ]
  },
  {
   "cell_type": "markdown",
   "id": "2d3fc3a8",
   "metadata": {},
   "source": [
    "Using the arrays created in Question above, write NumPy commands for the following: \n",
    "1. Find the dimensions, shape, size, data type of the items and itemsize of arrays zeros, vowels, ones, myarray1 and myarray2. \n",
    "2. Reshape the array ones to have all the 10 elements in a single row. \n",
    "3. Display the 2nd and 3rd element of the array vowels. \n",
    "4. Display all elements in the 2nd and 3rd row of the array myarray1. \n",
    "5. Display the elements in the 1st and 2nd column of the array myarray1. \n",
    "6. Display the elements in the 1st column of the 2nd and 3rd row of the array myarray1. \n",
    "7. Reverse the array of vowels."
   ]
  },
  {
   "cell_type": "code",
   "execution_count": 55,
   "id": "fc69c3db",
   "metadata": {},
   "outputs": [
    {
     "name": "stdout",
     "output_type": "stream",
     "text": [
      "\n",
      "zeros:\n",
      "Dimensions: 1\n",
      "Shape: (10,)\n",
      "Size: 10\n",
      "Data Type: float64\n",
      "Item Size: 8 bytes\n",
      "\n",
      "vowels:\n",
      "Dimensions: 1\n",
      "Shape: (5,)\n",
      "Size: 5\n",
      "Data Type: <U1\n",
      "Item Size: 4 bytes\n",
      "\n",
      "ones:\n",
      "Dimensions: 2\n",
      "Shape: (2, 5)\n",
      "Size: 10\n",
      "Data Type: int64\n",
      "Item Size: 8 bytes\n",
      "\n",
      "myarray1:\n",
      "Dimensions: 2\n",
      "Shape: (3, 3)\n",
      "Size: 9\n",
      "Data Type: float64\n",
      "Item Size: 8 bytes\n",
      "\n",
      "myarray2:\n",
      "Dimensions: 2\n",
      "Shape: (3, 5)\n",
      "Size: 15\n",
      "Data Type: float64\n",
      "Item Size: 8 bytes\n",
      "[[1 1 1 1 1 1 1 1 1 1]]\n",
      "['e' 'i']\n",
      "[[  3.4  10.6   0. ]\n",
      " [-19.   99.9  13. ]]\n",
      "[[  2.7   0. ]\n",
      " [  3.4  10.6]\n",
      " [-19.   99.9]]\n",
      "[  3.4 -19. ]\n",
      "['u' 'o' 'i' 'e' 'a']\n"
     ]
    }
   ],
   "source": [
    "#Q1 answer:\n",
    "# for the zeros array and its thhe same for the rest so i could do it \n",
    "#in a for loop instead\n",
    "# zeros.ndim\n",
    "# zeros.shape\n",
    "# zeros.size\n",
    "# zeros.dtype\n",
    "# zeros.itemsize\n",
    "myarray1 = np.array([[2.7, 0, -2], [3.4, 10.6, 0], [-19, 99.9, 13]])\n",
    "arrays = [(\"zeros\", zeros), (\"vowels\", vowels), (\"ones\", ones),(\"myarray1\", myarray1), (\"myarray2\", myarray2)]\n",
    "\n",
    "for name, arr in arrays:\n",
    "    print(f\"\\n{name}:\")\n",
    "    print(f\"Dimensions: {arr.ndim}\")\n",
    "    print(f\"Shape: {arr.shape}\")\n",
    "    print(f\"Size: {arr.size}\")\n",
    "    print(f\"Data Type: {arr.dtype}\")\n",
    "    print(f\"Item Size: {arr.itemsize} bytes\")\n",
    "    \n",
    "#Q2 answer:\n",
    "ones2 = ones.reshape(1,10)\n",
    "print(ones2)\n",
    "\n",
    "#Q3 answer:\n",
    "print(vowels[1:3])\n",
    "\n",
    "#Q4 answer:\n",
    "print(myarray1[1:])\n",
    "\n",
    "#Q5 answer:\n",
    "print(myarray1[:, 0:2])\n",
    "\n",
    "#Q6 answer:\n",
    "print(myarray1[1:, 0])\n",
    "\n",
    "#Q7 answer:\n",
    "print(vowels[::-1])"
   ]
  },
  {
   "cell_type": "markdown",
   "id": "e1edb3bb",
   "metadata": {},
   "source": [
    "Using the arrays created in Question above, write NumPy commands for the following:\n",
    "1. Divide all elements of array ones by 3. \n",
    "2. Add the arrays myarray1 and myarray2. \n",
    "3. Subtract myarray1 from myarray2 and store the result in a new array. \n",
    "4. Multiply myarray1 and myarray2 elementwise. \n",
    "5. Do the matrix multiplication of myarray1 and myarray2 and store the result in a new array myarray3. \n",
    "6. Divide myarray1 by myarray2. \n",
    "7. Find the cube of all elements of myarray1 and divide the resulting array by 2. \n",
    "8. Find the square root of all elements of myarray2   and divide the resulting array by 2. The result  should be rounded to two places of decimals."
   ]
  },
  {
   "cell_type": "code",
   "execution_count": 65,
   "id": "3c933386",
   "metadata": {},
   "outputs": [
    {
     "name": "stdout",
     "output_type": "stream",
     "text": [
      "[[0.33333333 0.33333333 0.33333333 0.33333333 0.33333333]\n",
      " [0.33333333 0.33333333 0.33333333 0.33333333 0.33333333]]\n"
     ]
    },
    {
     "ename": "ValueError",
     "evalue": "cannot reshape array of size 15 into shape (3,3)",
     "output_type": "error",
     "traceback": [
      "\u001b[1;31m---------------------------------------------------------------------------\u001b[0m",
      "\u001b[1;31mValueError\u001b[0m                                Traceback (most recent call last)",
      "Cell \u001b[1;32mIn[65], line 6\u001b[0m\n\u001b[0;32m      3\u001b[0m \u001b[38;5;28mprint\u001b[39m(divided_ones) \n\u001b[0;32m      5\u001b[0m \u001b[38;5;66;03m#we need to reshape the second array\u001b[39;00m\n\u001b[1;32m----> 6\u001b[0m myarray2_adjusted \u001b[38;5;241m=\u001b[39m myarray2\u001b[38;5;241m.\u001b[39mreshape(\u001b[38;5;241m3\u001b[39m,\u001b[38;5;241m3\u001b[39m)\n\u001b[0;32m      8\u001b[0m \u001b[38;5;66;03m#Q2 answer:\u001b[39;00m\n\u001b[0;32m      9\u001b[0m added_arrays \u001b[38;5;241m=\u001b[39m myarray1 \u001b[38;5;241m+\u001b[39m myarray2_adjusted\n",
      "\u001b[1;31mValueError\u001b[0m: cannot reshape array of size 15 into shape (3,3)"
     ]
    }
   ],
   "source": [
    "#Q1 answer:\n",
    "divided_ones = ones / 3\n",
    "print(divided_ones) \n",
    "\n",
    "#we need to reshape the second array\n",
    "myarray2_adjusted = myarray2.reshape(3,3)\n",
    "\n",
    "#Q2 answer:\n",
    "added_arrays = myarray1 + myarray2_adjusted\n",
    "print(added_arrays)\n",
    "\n",
    "#Q3 answer:\n",
    "subtracted_arrays = myarray2_adjusted - myarray1\n",
    "print(subtracted_arrays)\n",
    "\n",
    "#Q4 answer:\n",
    "multiplied_arrays = myarray1 * myarray2_adjusted\n",
    "print(multiplied_arrays)\n",
    "\n",
    "#Q5 answer:\n",
    "myarray3 = np.dot(myarray1, myarray2_adjusted)\n",
    "print(myarray3)\n",
    "\n",
    "#Q6 answer:\n",
    "divided_arrays = myarray1 / myarray2_adjusted\n",
    "print(divided_arrays)\n",
    "\n",
    "#Q7 answer:\n",
    "cubed_divided = (myarray1 ** 3) / 2\n",
    "print(cubed_divided)\n",
    "\n",
    "#Q8 answer:\n",
    "sqrt_divided = np.round(np.sqrt(myarray2_adjusted) / 2, 2)\n",
    "print(sqrt_divided)"
   ]
  },
  {
   "cell_type": "markdown",
   "id": "d8aafc74",
   "metadata": {},
   "source": [
    "Using the arrays created above, write NumPy commands for the following: \n",
    "1. Find the transpose of ones and myarray2. \n",
    "2. Sort the array vowels in reverse. \n",
    "3. Sort the array myarray1 such that it brings the lowest value of the column in the first row and so on."
   ]
  },
  {
   "cell_type": "code",
   "execution_count": 67,
   "id": "573c6506",
   "metadata": {},
   "outputs": [
    {
     "name": "stdout",
     "output_type": "stream",
     "text": [
      "[[1 1]\n",
      " [1 1]\n",
      " [1 1]\n",
      " [1 1]\n",
      " [1 1]]\n",
      "[[ 4. 24. 44.]\n",
      " [ 8. 28. 48.]\n",
      " [12. 32. 52.]\n",
      " [16. 36. 56.]\n",
      " [20. 40. 60.]]\n",
      "['u' 'o' 'i' 'e' 'a']\n",
      "[[-19.    0.   -2. ]\n",
      " [  2.7  10.6   0. ]\n",
      " [  3.4  99.9  13. ]]\n"
     ]
    }
   ],
   "source": [
    "# Write your answer here\n",
    "#Q1:\n",
    "transpose_ones = ones.T\n",
    "print(transpose_ones)\n",
    "\n",
    "transpose_myarray2 = myarray2.T\n",
    "print(transpose_myarray2)\n",
    "\n",
    "\n",
    "#Q2\n",
    "sorted_vowels = np.sort(vowels)[::-1]\n",
    "print(sorted_vowels)\n",
    "\n",
    "\n",
    "#Q3\n",
    "sorted_myarray1 = np.sort(myarray1, axis=0)\n",
    "print(sorted_myarray1)"
   ]
  },
  {
   "cell_type": "markdown",
   "id": "93546856",
   "metadata": {},
   "source": [
    "Create a 2-D array called myarray4 using arange() having 14 rows and 3 columns with start value = -1, step size 0.25 having. Split this array row wise into 3 equal parts and print the result. "
   ]
  },
  {
   "cell_type": "code",
   "execution_count": 71,
   "id": "441dd934",
   "metadata": {},
   "outputs": [
    {
     "name": "stdout",
     "output_type": "stream",
     "text": [
      "[[-1.   -0.75 -0.5 ]\n",
      " [-0.25  0.    0.25]\n",
      " [ 0.5   0.75  1.  ]\n",
      " [ 1.25  1.5   1.75]\n",
      " [ 2.    2.25  2.5 ]\n",
      " [ 2.75  3.    3.25]\n",
      " [ 3.5   3.75  4.  ]\n",
      " [ 4.25  4.5   4.75]\n",
      " [ 5.    5.25  5.5 ]\n",
      " [ 5.75  6.    6.25]\n",
      " [ 6.5   6.75  7.  ]\n",
      " [ 7.25  7.5   7.75]\n",
      " [ 8.    8.25  8.5 ]\n",
      " [ 8.75  9.    9.25]]\n",
      "[array([[-1.  , -0.75, -0.5 ],\n",
      "       [-0.25,  0.  ,  0.25],\n",
      "       [ 0.5 ,  0.75,  1.  ],\n",
      "       [ 1.25,  1.5 ,  1.75],\n",
      "       [ 2.  ,  2.25,  2.5 ]]), array([[2.75, 3.  , 3.25],\n",
      "       [3.5 , 3.75, 4.  ],\n",
      "       [4.25, 4.5 , 4.75],\n",
      "       [5.  , 5.25, 5.5 ],\n",
      "       [5.75, 6.  , 6.25]]), array([[6.5 , 6.75, 7.  ],\n",
      "       [7.25, 7.5 , 7.75],\n",
      "       [8.  , 8.25, 8.5 ],\n",
      "       [8.75, 9.  , 9.25]])]\n"
     ]
    }
   ],
   "source": [
    "# Write your answer here\n",
    "myarray4 = np.arange(-1, -1 + (14 * 3 * 0.25), 0.25).reshape(14, 3)\n",
    "print(myarray4)\n",
    "\n",
    "\n",
    "split_arrays = np.array_split(myarray4, 3, axis=0)\n",
    "print(split_arrays)"
   ]
  },
  {
   "cell_type": "markdown",
   "id": "c8cdbaff",
   "metadata": {},
   "source": [
    "Using the myarray4 created in the above questions, write commands for the following: \n",
    "1. Find the sum of all elements. \n",
    "2. Find the sum of all elements row wise\n",
    "3. Find the sum of all elements column wise. \n",
    "4. Find the max of all elements. \n",
    "5. Find the min of all elements in each row. \n",
    "6. Find the mean of all elements in each row. \n",
    "7. Find the standard deviation column wise."
   ]
  },
  {
   "cell_type": "code",
   "execution_count": 73,
   "id": "66af8b55",
   "metadata": {},
   "outputs": [
    {
     "name": "stdout",
     "output_type": "stream",
     "text": [
      "173.25\n",
      "[-2.25  0.    2.25  4.5   6.75  9.   11.25 13.5  15.75 18.   20.25 22.5\n",
      " 24.75 27.  ]\n",
      "[54.25 57.75 61.25]\n",
      "9.25\n",
      "[-1.   -0.25  0.5   1.25  2.    2.75  3.5   4.25  5.    5.75  6.5   7.25\n",
      "  8.    8.75]\n",
      "[-0.75  0.    0.75  1.5   2.25  3.    3.75  4.5   5.25  6.    6.75  7.5\n",
      "  8.25  9.  ]\n",
      "[3.02334666 3.02334666 3.02334666]\n"
     ]
    }
   ],
   "source": [
    "# Write your ansewr here\n",
    "\n",
    "total_sum = np.sum(myarray4)\n",
    "print(total_sum)\n",
    "\n",
    "row_sum = np.sum(myarray4, axis=1)\n",
    "print(row_sum)\n",
    "\n",
    "column_sum = np.sum(myarray4, axis=0)\n",
    "print(column_sum)\n",
    "\n",
    "max_value = np.max(myarray4)\n",
    "print(max_value)\n",
    "\n",
    "row_min = np.min(myarray4, axis=1)\n",
    "print(row_min)\n",
    "\n",
    "row_mean = np.mean(myarray4, axis=1)\n",
    "print(row_mean)\n",
    "\n",
    "column_std = np.std(myarray4, axis=0)\n",
    "print(column_std)"
   ]
  },
  {
   "cell_type": "markdown",
   "id": "8d7e1dca",
   "metadata": {},
   "source": [
    "#### Practice Exercise 2\n",
    "Read the coordinates of the capital cities of the world from the country-capital-lat-long-population.csv file. Use NumPy to print the name and coordinates of the capital city closest to the Saudi Arabia capital - Riyadh.\n",
    "\n",
    "Note that:\n",
    "\n",
    "1. The Country Name for Saudi Arabia is given as Saudi Arabia in the data.\n",
    "2. The ‘closeness’ of capital cities from the Saudi Arabia capital is based on the Euclidean distance of their coordinates to those of the Saudi Arabia capital.\n",
    "\n",
    "\n",
    "Hints:\n",
    "\n",
    "1. Use read_html() from the Pandas library to read the table.\n",
    "2. Use the to_numpy() function of the Pandas DataFrame class to convert a DataFrame to a Numpy array\n",
    "3. Use broadcasting to compute the euclidean distance of capital cities from Riyadh."
   ]
  },
  {
   "cell_type": "code",
   "execution_count": 76,
   "id": "ab6b9725",
   "metadata": {},
   "outputs": [
    {
     "data": {
      "text/plain": [
       "Country                     Bahrain\n",
       "Capital City    Al-Manamah (Manama)\n",
       "Latitude                    26.2154\n",
       "Longitude                   50.5832\n",
       "Population                   564631\n",
       "Capital Type                Capital\n",
       "Name: 15, dtype: object"
      ]
     },
     "execution_count": 76,
     "metadata": {},
     "output_type": "execute_result"
    }
   ],
   "source": [
    "# Write your answer here\n",
    "import pandas as pd\n",
    "import numpy as np\n",
    "capitals = pd.read_csv('country-capital-lat-long-population.csv')\n",
    "capitals.head()\n",
    "\n",
    "capitals_location = capitals.loc[:,['Latitude','Longitude']].to_numpy()\n",
    "KSA_locations = capitals.loc[capitals.Country == 'Saudi Arabia',['Latitude','Longitude']].to_numpy()\n",
    "\n",
    "distance_from_riyadh = np.sqrt(np.sum((KSA_locations - capitals_location)**2,axis=1))\n",
    "distance_from_riyadh[distance_from_riyadh ==0]=9999\n",
    "\n",
    "closest = np.argmin(distance_from_riyadh)\n",
    "\n",
    "capitals.iloc[closest,:]"
   ]
  },
  {
   "cell_type": "markdown",
   "id": "1fdbec05",
   "metadata": {},
   "source": [
    "#### Practical Exercise 2\n",
    "\n",
    "Use NumPy to:\n",
    "\n",
    "1. Print the names of the countries of the top 10 capital cities closest to the US capital - Washington DC.\n",
    "\n",
    "2. Create and print a NumPy array containing the coordinates of the top 10 cities."
   ]
  },
  {
   "cell_type": "code",
   "execution_count": 78,
   "id": "45046a85",
   "metadata": {},
   "outputs": [
    {
     "ename": "ValueError",
     "evalue": "operands could not be broadcast together with shapes (0,2) (234,2) ",
     "output_type": "error",
     "traceback": [
      "\u001b[1;31m---------------------------------------------------------------------------\u001b[0m",
      "\u001b[1;31mValueError\u001b[0m                                Traceback (most recent call last)",
      "Cell \u001b[1;32mIn[78], line 12\u001b[0m\n\u001b[0;32m      7\u001b[0m capitals_location \u001b[38;5;241m=\u001b[39m capitals\u001b[38;5;241m.\u001b[39mloc[:, [\u001b[38;5;124m'\u001b[39m\u001b[38;5;124mLatitude\u001b[39m\u001b[38;5;124m'\u001b[39m, \u001b[38;5;124m'\u001b[39m\u001b[38;5;124mLongitude\u001b[39m\u001b[38;5;124m'\u001b[39m]]\u001b[38;5;241m.\u001b[39mto_numpy()\n\u001b[0;32m      9\u001b[0m US_locations \u001b[38;5;241m=\u001b[39m capitals\u001b[38;5;241m.\u001b[39mloc[capitals\u001b[38;5;241m.\u001b[39mCountry \u001b[38;5;241m==\u001b[39m \u001b[38;5;124m'\u001b[39m\u001b[38;5;124mUnited States\u001b[39m\u001b[38;5;124m'\u001b[39m, [\u001b[38;5;124m'\u001b[39m\u001b[38;5;124mLatitude\u001b[39m\u001b[38;5;124m'\u001b[39m, \u001b[38;5;124m'\u001b[39m\u001b[38;5;124mLongitude\u001b[39m\u001b[38;5;124m'\u001b[39m]]\u001b[38;5;241m.\u001b[39mto_numpy()\n\u001b[1;32m---> 12\u001b[0m distance_from_DC \u001b[38;5;241m=\u001b[39m np\u001b[38;5;241m.\u001b[39msqrt(np\u001b[38;5;241m.\u001b[39msum((US_locations \u001b[38;5;241m-\u001b[39m capitals_location) \u001b[38;5;241m*\u001b[39m\u001b[38;5;241m*\u001b[39m \u001b[38;5;241m2\u001b[39m, axis\u001b[38;5;241m=\u001b[39m\u001b[38;5;241m1\u001b[39m))\n\u001b[0;32m     14\u001b[0m distance_from_DC[distance_from_DC \u001b[38;5;241m==\u001b[39m \u001b[38;5;241m0\u001b[39m] \u001b[38;5;241m=\u001b[39m np\u001b[38;5;241m.\u001b[39minf\n\u001b[0;32m     16\u001b[0m top_10_indices \u001b[38;5;241m=\u001b[39m np\u001b[38;5;241m.\u001b[39margsort(distance_from_DC)[:\u001b[38;5;241m10\u001b[39m]\n",
      "\u001b[1;31mValueError\u001b[0m: operands could not be broadcast together with shapes (0,2) (234,2) "
     ]
    }
   ],
   "source": [
    "# Write your answer here\n",
    "import pandas as pd\n",
    "import numpy as np\n",
    "\n",
    "capitals = pd.read_csv('country-capital-lat-long-population.csv')\n",
    "\n",
    "capitals_location = capitals.loc[:, ['Latitude', 'Longitude']].to_numpy()\n",
    "\n",
    "US_locations = capitals.loc[capitals.Country == 'United States', ['Latitude', 'Longitude']].to_numpy()\n",
    "\n",
    "\n",
    "distance_from_DC = np.sqrt(np.sum((US_locations - capitals_location) ** 2, axis=1))\n",
    "\n",
    "distance_from_DC[distance_from_DC == 0] = np.inf\n",
    "\n",
    "top_10_indices = np.argsort(distance_from_DC)[:10]\n",
    "\n",
    "\n",
    "closest_countries = capitals.iloc[top_10_indices]['Country'].to_numpy()\n",
    "print(closest_countries)\n",
    "\n",
    "\n",
    "top_10_coordinates = capitals_location[top_10_indices]\n",
    "print(top_10_coordinates)\n",
    "\n"
   ]
  },
  {
   "cell_type": "code",
   "execution_count": null,
   "id": "8c376453-5add-4476-948e-c122e6297598",
   "metadata": {},
   "outputs": [],
   "source": []
  }
 ],
 "metadata": {
  "kernelspec": {
   "display_name": "Python 3 (ipykernel)",
   "language": "python",
   "name": "python3"
  },
  "language_info": {
   "codemirror_mode": {
    "name": "ipython",
    "version": 3
   },
   "file_extension": ".py",
   "mimetype": "text/x-python",
   "name": "python",
   "nbconvert_exporter": "python",
   "pygments_lexer": "ipython3",
   "version": "3.12.4"
  }
 },
 "nbformat": 4,
 "nbformat_minor": 5
}
